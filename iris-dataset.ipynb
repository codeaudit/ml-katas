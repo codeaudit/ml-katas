{
 "cells": [
  {
   "cell_type": "code",
   "execution_count": 2,
   "metadata": {},
   "outputs": [],
   "source": [
    "import matplotlib.pyplot as plt\n",
    "from sklearn import datasets\n"
   ]
  },
  {
   "cell_type": "code",
   "execution_count": 3,
   "metadata": {},
   "outputs": [],
   "source": [
    "iris = datasets.load_iris()"
   ]
  },
  {
   "cell_type": "code",
   "execution_count": 11,
   "metadata": {},
   "outputs": [
    {
     "name": "stdout",
     "output_type": "stream",
     "text": [
      "Iris Plants Database\n",
      "====================\n",
      "\n",
      "Notes\n",
      "-----\n",
      "Data Set Characteristics:\n",
      "    :Number of Instances: 150 (50 in each of three classes)\n",
      "    :Number of Attributes: 4 numeric, predictive attributes and the class\n",
      "    :Attribute Information:\n",
      "        - sepal length in cm\n",
      "        - sepal width in cm\n",
      "        - petal length in cm\n",
      "        - petal width in cm\n",
      "        - class:\n",
      "                - Iris-Setosa\n",
      "                - Iris-Versicolour\n",
      "                - Iris-Virginica\n",
      "    :Summary Statistics:\n",
      "\n",
      "    ============== ==== ==== ======= ===== ====================\n",
      "                    Min  Max   Mean    SD   Class Correlation\n",
      "    ============== ==== ==== ======= ===== ====================\n",
      "    sepal length:   4.3  7.9   5.84   0.83    0.7826\n",
      "    sepal width:    2.0  4.4   3.05   0.43   -0.4194\n",
      "    petal length:   1.0  6.9   3.76   1.76    0.9490  (high!)\n",
      "    petal width:    0.1  2.5   1.20  0.76     0.9565  (high!)\n",
      "    ============== ==== ==== ======= ===== ====================\n",
      "\n",
      "    :Missing Attribute Values: None\n",
      "    :Class Distribution: 33.3% for each of 3 classes.\n",
      "    :Creator: R.A. Fisher\n",
      "    :Donor: Michael Marshall (MARSHALL%PLU@io.arc.nasa.gov)\n",
      "    :Date: July, 1988\n",
      "\n",
      "This is a copy of UCI ML iris datasets.\n",
      "http://archive.ics.uci.edu/ml/datasets/Iris\n",
      "\n",
      "The famous Iris database, first used by Sir R.A Fisher\n",
      "\n",
      "This is perhaps the best known database to be found in the\n",
      "pattern recognition literature.  Fisher's paper is a classic in the field and\n",
      "is referenced frequently to this day.  (See Duda & Hart, for example.)  The\n",
      "data set contains 3 classes of 50 instances each, where each class refers to a\n",
      "type of iris plant.  One class is linearly separable from the other 2; the\n",
      "latter are NOT linearly separable from each other.\n",
      "\n",
      "References\n",
      "----------\n",
      "   - Fisher,R.A. \"The use of multiple measurements in taxonomic problems\"\n",
      "     Annual Eugenics, 7, Part II, 179-188 (1936); also in \"Contributions to\n",
      "     Mathematical Statistics\" (John Wiley, NY, 1950).\n",
      "   - Duda,R.O., & Hart,P.E. (1973) Pattern Classification and Scene Analysis.\n",
      "     (Q327.D83) John Wiley & Sons.  ISBN 0-471-22361-1.  See page 218.\n",
      "   - Dasarathy, B.V. (1980) \"Nosing Around the Neighborhood: A New System\n",
      "     Structure and Classification Rule for Recognition in Partially Exposed\n",
      "     Environments\".  IEEE Transactions on Pattern Analysis and Machine\n",
      "     Intelligence, Vol. PAMI-2, No. 1, 67-71.\n",
      "   - Gates, G.W. (1972) \"The Reduced Nearest Neighbor Rule\".  IEEE Transactions\n",
      "     on Information Theory, May 1972, 431-433.\n",
      "   - See also: 1988 MLC Proceedings, 54-64.  Cheeseman et al\"s AUTOCLASS II\n",
      "     conceptual clustering system finds 3 classes in the data.\n",
      "   - Many, many more ...\n",
      "\n"
     ]
    }
   ],
   "source": [
    "print(iris.DESCR)"
   ]
  },
  {
   "cell_type": "code",
   "execution_count": 16,
   "metadata": {},
   "outputs": [
    {
     "name": "stdout",
     "output_type": "stream",
     "text": [
      "[0 0 0 0 0 0 0 0 0 0 0 0 0 0 0 0 0 0 0 0 0 0 0 0 0 0 0 0 0 0 0 0 0 0 0 0 0\n",
      " 0 0 0 0 0 0 0 0 0 0 0 0 0 1 1 1 1 1 1 1 1 1 1 1 1 1 1 1 1 1 1 1 1 1 1 1 1\n",
      " 1 1 1 1 1 1 1 1 1 1 1 1 1 1 1 1 1 1 1 1 1 1 1 1 1 1 2 2 2 2 2 2 2 2 2 2 2\n",
      " 2 2 2 2 2 2 2 2 2 2 2 2 2 2 2 2 2 2 2 2 2 2 2 2 2 2 2 2 2 2 2 2 2 2 2 2 2\n",
      " 2 2]\n",
      "['setosa' 'versicolor' 'virginica']\n"
     ]
    }
   ],
   "source": [
    "print(iris.target)\n",
    "print(iris.target_names)"
   ]
  },
  {
   "cell_type": "code",
   "execution_count": 18,
   "metadata": {},
   "outputs": [],
   "source": [
    "class NullHypothesisClassifier:\n",
    "   def fit(self, X, y):\n",
    "       self.majority_class = np.argmax(np.bincount(list(y_train)))\n",
    "   \n",
    "   def predict(self, X):\n",
    "       return np.ones(X.shape[0]) * self.majority_class\n",
    "\n",
    "class RandomClassifier:\n",
    "   def fit(self, X, y):\n",
    "       self.classes = np.unique(y_train)\n",
    "   \n",
    "   def predict(self, X):\n",
    "       return np.random.choice(self.classes, X.shape[0])"
   ]
  },
  {
   "cell_type": "code",
   "execution_count": 64,
   "metadata": {},
   "outputs": [],
   "source": [
    "X = iris.data\n",
    "y = iris.target"
   ]
  },
  {
   "cell_type": "code",
   "execution_count": 89,
   "metadata": {},
   "outputs": [],
   "source": [
    "from sklearn.model_selection import train_test_split\n",
    "import numpy as np\n",
    "\n",
    "X_train, X_test, y_train, y_test = train_test_split(X, y, test_size=0.33) #, random_state=0)"
   ]
  },
  {
   "cell_type": "code",
   "execution_count": 90,
   "metadata": {},
   "outputs": [],
   "source": [
    "null_hypothesis_clf = NullHypothesisClassifier()\n",
    "null_hypothesis_clf.fit(X_train, y_train)"
   ]
  },
  {
   "cell_type": "code",
   "execution_count": 91,
   "metadata": {},
   "outputs": [],
   "source": [
    "random_clf = RandomClassifier()\n",
    "random_clf.fit(X_train, y_train)"
   ]
  },
  {
   "cell_type": "code",
   "execution_count": 92,
   "metadata": {},
   "outputs": [
    {
     "data": {
      "text/plain": [
       "array([1., 1., 1., 1., 1., 1., 1., 1., 1., 1., 1., 1., 1., 1., 1., 1., 1.,\n",
       "       1., 1., 1., 1., 1., 1., 1., 1., 1., 1., 1., 1., 1., 1., 1., 1., 1.,\n",
       "       1., 1., 1., 1., 1., 1., 1., 1., 1., 1., 1., 1., 1., 1., 1., 1.])"
      ]
     },
     "execution_count": 92,
     "metadata": {},
     "output_type": "execute_result"
    }
   ],
   "source": [
    "null_hypothesis_clf.predict(X_test)"
   ]
  },
  {
   "cell_type": "code",
   "execution_count": 93,
   "metadata": {},
   "outputs": [
    {
     "data": {
      "text/plain": [
       "array([0, 0, 2, 0, 2, 0, 0, 1, 2, 0, 2, 1, 2, 1, 0, 0, 2, 1, 2, 2, 2, 0,\n",
       "       1, 1, 1, 0, 2, 2, 2, 1, 2, 1, 2, 1, 1, 2, 1, 0, 2, 1, 0, 1, 1, 2,\n",
       "       2, 1, 2, 1, 1, 0])"
      ]
     },
     "execution_count": 93,
     "metadata": {},
     "output_type": "execute_result"
    }
   ],
   "source": [
    "random_clf.predict(X_test)"
   ]
  },
  {
   "cell_type": "code",
   "execution_count": 94,
   "metadata": {},
   "outputs": [],
   "source": [
    "from sklearn.metrics import accuracy_score"
   ]
  },
  {
   "cell_type": "code",
   "execution_count": 95,
   "metadata": {},
   "outputs": [
    {
     "data": {
      "text/plain": [
       "0.28"
      ]
     },
     "execution_count": 95,
     "metadata": {},
     "output_type": "execute_result"
    }
   ],
   "source": [
    "accuracy_score(y_true=y_test, y_pred=null_hypothesis_clf.predict(X_test))"
   ]
  },
  {
   "cell_type": "code",
   "execution_count": 96,
   "metadata": {},
   "outputs": [
    {
     "data": {
      "text/plain": [
       "0.33312"
      ]
     },
     "execution_count": 96,
     "metadata": {},
     "output_type": "execute_result"
    }
   ],
   "source": [
    "np.mean([accuracy_score(y_true=y_test, y_pred=random_clf.predict(X_test)) for _ in range(1000)])"
   ]
  },
  {
   "cell_type": "code",
   "execution_count": 44,
   "metadata": {},
   "outputs": [],
   "source": [
    "from sklearn.svm import LinearSVC"
   ]
  },
  {
   "cell_type": "code",
   "execution_count": 46,
   "metadata": {},
   "outputs": [],
   "source": [
    "clf = LinearSVC()"
   ]
  },
  {
   "cell_type": "code",
   "execution_count": 47,
   "metadata": {},
   "outputs": [
    {
     "data": {
      "text/plain": [
       "LinearSVC(C=1.0, class_weight=None, dual=True, fit_intercept=True,\n",
       "     intercept_scaling=1, loss='squared_hinge', max_iter=1000,\n",
       "     multi_class='ovr', penalty='l2', random_state=None, tol=0.0001,\n",
       "     verbose=0)"
      ]
     },
     "execution_count": 47,
     "metadata": {},
     "output_type": "execute_result"
    }
   ],
   "source": [
    "clf.fit(X_train, y_train)"
   ]
  },
  {
   "cell_type": "code",
   "execution_count": 50,
   "metadata": {},
   "outputs": [
    {
     "data": {
      "text/plain": [
       "0.94"
      ]
     },
     "execution_count": 50,
     "metadata": {},
     "output_type": "execute_result"
    }
   ],
   "source": [
    "accuracy_score(y_true=y_test, y_pred=clf.predict(X_test))"
   ]
  },
  {
   "cell_type": "code",
   "execution_count": 61,
   "metadata": {},
   "outputs": [
    {
     "data": {
      "image/png": "[encoded data removed]",
      "text/plain": [
       "<Figure size 72x72 with 1 Axes>"
      ]
     },
     "metadata": {},
     "output_type": "display_data"
    }
   ],
   "source": [
    "def make_meshgrid(x, y, h=.02):\n",
    "   '''Create a mesh of points to plot in\n",
    "\n",
    "   Parameters\n",
    "   ----------\n",
    "   x: data to base x-axis meshgrid on\n",
    "   y: data to base y-axis meshgrid on\n",
    "   h: stepsize for meshgrid, optional\n",
    "\n",
    "   Returns\n",
    "   -------\n",
    "   xx, yy : ndarray\n",
    "   '''\n",
    "   x_min, x_max = x.min() - 1, x.max() + 1\n",
    "   y_min, y_max = y.min() - 1, y.max() + 1\n",
    "   xx, yy = np.meshgrid(np.arange(x_min, x_max, h),\n",
    "                        np.arange(y_min, y_max, h))\n",
    "   return xx, yy\n",
    "\n",
    "\n",
    "def plot_contours(clf, xx, yy, **params):\n",
    "   '''Plot the decision boundaries for a classifier.\n",
    "\n",
    "   Parameters\n",
    "   ----------\n",
    "   ax: matplotlib axes object\n",
    "   clf: a classifier\n",
    "   xx: meshgrid ndarray\n",
    "   yy: meshgrid ndarray\n",
    "   params: dictionary of params to pass to contourf, optional\n",
    "   '''\n",
    "   Z = clf.predict(np.c_[xx.ravel(), yy.ravel()])\n",
    "   Z = Z.reshape(xx.shape)\n",
    "   out = plt.contourf(xx, yy, Z, **params)\n",
    "   return out\n",
    "\n",
    "from sklearn.decomposition import PCA\n",
    "pca = PCA(n_components=2)\n",
    "pca.fit(X_train, y_train)\n",
    "\n",
    "X = pca.transform(X_test)\n",
    "X1, X0 = X[:, 0], X[:, 1]\n",
    "xx, yy = make_meshgrid(X0, X1, h=0.5)\n",
    "\n",
    "clf = LinearSVC()\n",
    "clf.fit(pca.transform(X_train), y_train)\n",
    "\n",
    "plt.figure(figsize=(1,1))\n",
    "plot_contours(clf, xx, yy,\n",
    "             cmap=plt.cm.coolwarm, alpha=0.8);\n",
    "# plt.scatter(X0, X1, c=y, cmap=plt.cm.coolwarm, s=20, edgecolors='k')"
   ]
  },
  {
   "cell_type": "code",
   "execution_count": 57,
   "metadata": {},
   "outputs": [
    {
     "data": {
      "text/plain": [
       "array([[ 1.55234275, -0.63259399],\n",
       "       [ 0.22795291, -0.57428287],\n",
       "       [-2.58661233,  1.13578962],\n",
       "       [ 2.92023306,  0.25963317],\n",
       "       [-2.64044   ,  0.20958866],\n",
       "       [ 2.51203124, -0.12217716],\n",
       "       [-2.7811418 ,  0.30798199],\n",
       "       [ 1.21123568,  0.34812826],\n",
       "       [ 1.31723316,  0.1871147 ],\n",
       "       [ 0.33554995, -0.10656891],\n",
       "       [ 1.74583787, -0.56054088],\n",
       "       [ 0.92117914,  0.26378314],\n",
       "       [ 0.89556022, -0.22462428],\n",
       "       [ 1.06928157,  0.01817738],\n",
       "       [ 0.9609159 , -0.17490779],\n",
       "       [-2.69525083, -0.06247489],\n",
       "       [ 0.78865399, -0.21426931],\n",
       "       [ 0.42570473, -0.70370816],\n",
       "       [-2.74028916, -0.20495441],\n",
       "       [-2.61908118,  0.84737617],\n",
       "       [ 1.16313496, -0.67861723],\n",
       "       [ 0.63098989, -0.40045392],\n",
       "       [-2.37565512,  0.00590967],\n",
       "       [-2.921204  , -0.52544771],\n",
       "       [ 1.23344495, -0.2481136 ],\n",
       "       [-3.22998203,  0.18900002],\n",
       "       [-2.21561913,  0.46889073],\n",
       "       [ 0.62246597, -0.02439146],\n",
       "       [-0.75261071, -1.01951423],\n",
       "       [-2.48368094,  0.16781239],\n",
       "       [ 1.8861109 , -0.02931753],\n",
       "       [ 0.55530021, -0.53002971],\n",
       "       [-2.57103505,  0.41213141],\n",
       "       [ 1.26814928, -0.18549337],\n",
       "       [ 2.13336458, -0.31324517],\n",
       "       [-0.04806731, -0.75572634],\n",
       "       [-2.19460757,  0.90629492],\n",
       "       [ 1.34775551, -0.48298328],\n",
       "       [ 0.48916849, -0.15051284],\n",
       "       [ 0.1987647 , -0.43524128],\n",
       "       [ 2.15123562,  0.12199137],\n",
       "       [-2.91164232, -0.09365734],\n",
       "       [ 1.91396158,  0.31059895],\n",
       "       [-2.41832526,  0.21752888],\n",
       "       [-2.50791484,  0.68764111],\n",
       "       [-0.56351922, -1.27546672],\n",
       "       [ 1.93024048, -0.0374966 ],\n",
       "       [ 2.40805468,  0.19255182],\n",
       "       [ 1.25824034, -0.81766706],\n",
       "       [ 2.29270976, -0.32833303]])"
      ]
     },
     "execution_count": 57,
     "metadata": {},
     "output_type": "execute_result"
    }
   ],
   "source": [
    "X"
   ]
  },
  {
   "cell_type": "code",
   "execution_count": null,
   "metadata": {},
   "outputs": [],
   "source": []
  }
 ],
 "metadata": {
  "kernelspec": {
   "display_name": "Python 3",
   "language": "python",
   "name": "python3"
  },
  "language_info": {
   "codemirror_mode": {
    "name": "ipython",
    "version": 3
   },
   "file_extension": ".py",
   "mimetype": "text/x-python",
   "name": "python",
   "nbconvert_exporter": "python",
   "pygments_lexer": "ipython3",
   "version": "3.6.6"
  }
 },
 "nbformat": 4,
 "nbformat_minor": 2
}
