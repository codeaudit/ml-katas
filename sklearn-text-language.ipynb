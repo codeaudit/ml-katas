{
 "cells": [
  {
   "cell_type": "code",
   "execution_count": 369,
   "metadata": {
    "collapsed": true
   },
   "outputs": [],
   "source": [
    "import sys\n",
    "from sklearn.feature_extraction.text import TfidfVectorizer\n",
    "from sklearn.linear_model import Perceptron, PassiveAggressiveClassifier\n",
    "from sklearn.svm import LinearSVC\n",
    "from sklearn.ensemble import AdaBoostClassifier, GradientBoostingClassifier\n",
    "from sklearn.pipeline import Pipeline\n",
    "from sklearn.datasets import load_files\n",
    "from sklearn.model_selection import train_test_split\n",
    "from sklearn import metrics"
   ]
  },
  {
   "cell_type": "code",
   "execution_count": 370,
   "metadata": {
    "collapsed": true
   },
   "outputs": [],
   "source": [
    "folder = '/Users/adavani/Data/NLP/scikit-learn/paragraphs'\n",
    "dataset = load_files(folder)"
   ]
  },
  {
   "cell_type": "code",
   "execution_count": 371,
   "metadata": {
    "collapsed": false
   },
   "outputs": [],
   "source": [
    "docs_train,docs_test,y_train,y_test=train_test_split(dataset.data,dataset.target,test_size=0.5)"
   ]
  },
  {
   "cell_type": "code",
   "execution_count": 372,
   "metadata": {
    "collapsed": true
   },
   "outputs": [],
   "source": [
    "vectorizer = TfidfVectorizer(ngram_range=(2,2),analyzer='char',use_idf=False)"
   ]
  },
  {
   "cell_type": "code",
   "execution_count": 373,
   "metadata": {
    "collapsed": false
   },
   "outputs": [
    {
     "data": {
      "text/plain": [
       "TfidfVectorizer(analyzer='char', binary=False, decode_error=u'strict',\n",
       "        dtype=<type 'numpy.int64'>, encoding=u'utf-8', input=u'content',\n",
       "        lowercase=True, max_df=1.0, max_features=None, min_df=1,\n",
       "        ngram_range=(2, 2), norm=u'l2', preprocessor=None, smooth_idf=True,\n",
       "        stop_words=None, strip_accents=None, sublinear_tf=False,\n",
       "        token_pattern=u'(?u)\\\\b\\\\w\\\\w+\\\\b', tokenizer=None, use_idf=False,\n",
       "        vocabulary=None)"
      ]
     },
     "execution_count": 373,
     "metadata": {},
     "output_type": "execute_result"
    }
   ],
   "source": [
    "vectorizer.fit(docs_train)"
   ]
  },
  {
   "cell_type": "code",
   "execution_count": 374,
   "metadata": {
    "collapsed": false
   },
   "outputs": [],
   "source": [
    "clf=Pipeline([\n",
    "        ('vec',vectorizer),\n",
    "        ('clf',LinearSVC())\n",
    "    ])"
   ]
  },
  {
   "cell_type": "code",
   "execution_count": 375,
   "metadata": {
    "collapsed": false
   },
   "outputs": [
    {
     "data": {
      "text/plain": [
       "Pipeline(steps=[('vec', TfidfVectorizer(analyzer='char', binary=False, decode_error=u'strict',\n",
       "        dtype=<type 'numpy.int64'>, encoding=u'utf-8', input=u'content',\n",
       "        lowercase=True, max_df=1.0, max_features=None, min_df=1,\n",
       "        ngram_range=(2, 2), norm=u'l2', preprocessor=None, smooth_idf=True,\n",
       "...ax_iter=1000,\n",
       "     multi_class='ovr', penalty='l2', random_state=None, tol=0.0001,\n",
       "     verbose=0))])"
      ]
     },
     "execution_count": 375,
     "metadata": {},
     "output_type": "execute_result"
    }
   ],
   "source": [
    "clf.fit(docs_train,y_train)"
   ]
  },
  {
   "cell_type": "code",
   "execution_count": 376,
   "metadata": {
    "collapsed": false
   },
   "outputs": [
    {
     "name": "stdout",
     "output_type": "stream",
     "text": [
      "             precision    recall  f1-score   support\n",
      "\n",
      "         ar       1.00      1.00      1.00        15\n",
      "         de       1.00      0.99      0.99        77\n",
      "         en       0.99      1.00      0.99        68\n",
      "         es       1.00      0.98      0.99        58\n",
      "         fr       1.00      1.00      1.00        60\n",
      "         it       1.00      1.00      1.00        45\n",
      "         ja       1.00      1.00      1.00        33\n",
      "         nl       1.00      1.00      1.00        23\n",
      "         pl       0.95      1.00      0.98        21\n",
      "         pt       1.00      1.00      1.00        47\n",
      "         ru       1.00      1.00      1.00        35\n",
      "\n",
      "avg / total       1.00      1.00      1.00       482\n",
      "\n"
     ]
    }
   ],
   "source": [
    "y_predicted = clf.predict(docs_test)\n",
    "print(metrics.classification_report(y_test,y_predicted,target_names=dataset.target_names))"
   ]
  },
  {
   "cell_type": "code",
   "execution_count": 377,
   "metadata": {
    "collapsed": false
   },
   "outputs": [
    {
     "name": "stdout",
     "output_type": "stream",
     "text": [
      "[[15  0  0  0  0  0  0  0  0  0  0]\n",
      " [ 0 76  0  0  0  0  0  0  1  0  0]\n",
      " [ 0  0 68  0  0  0  0  0  0  0  0]\n",
      " [ 0  0  1 57  0  0  0  0  0  0  0]\n",
      " [ 0  0  0  0 60  0  0  0  0  0  0]\n",
      " [ 0  0  0  0  0 45  0  0  0  0  0]\n",
      " [ 0  0  0  0  0  0 33  0  0  0  0]\n",
      " [ 0  0  0  0  0  0  0 23  0  0  0]\n",
      " [ 0  0  0  0  0  0  0  0 21  0  0]\n",
      " [ 0  0  0  0  0  0  0  0  0 47  0]\n",
      " [ 0  0  0  0  0  0  0  0  0  0 35]]\n"
     ]
    }
   ],
   "source": [
    "cm = metrics.confusion_matrix(y_test,y_predicted)\n",
    "print(cm)"
   ]
  },
  {
   "cell_type": "code",
   "execution_count": 378,
   "metadata": {
    "collapsed": true
   },
   "outputs": [],
   "source": [
    "sentences = [\n",
    "    u'Ceci est un test de détection de la langue.',\n",
    "    u'This is a language detection test.',\n",
    "    u'Ceci est un test de d\\xe9tection de la langue.',\n",
    "    u'Dies ist ein Test, um die Sprache zu erkennen.',\n",
    "]"
   ]
  },
  {
   "cell_type": "code",
   "execution_count": 379,
   "metadata": {
    "collapsed": true
   },
   "outputs": [],
   "source": [
    "predicted = clf.predict(sentences)"
   ]
  },
  {
   "cell_type": "code",
   "execution_count": 380,
   "metadata": {
    "collapsed": false
   },
   "outputs": [
    {
     "name": "stdout",
     "output_type": "stream",
     "text": [
      "Ceci est un test de détection de la langue. fr\n",
      "This is a language detection test. fr\n",
      "Ceci est un test de détection de la langue. fr\n",
      "Dies ist ein Test, um die Sprache zu erkennen. de\n"
     ]
    }
   ],
   "source": [
    "for s,p in zip(sentences,predicted):\n",
    "    print s,dataset.target_names[p]"
   ]
  },
  {
   "cell_type": "code",
   "execution_count": 381,
   "metadata": {
    "collapsed": true
   },
   "outputs": [],
   "source": [
    "from sklearn.linear_model import LogisticRegression\n",
    "clf1 = Pipeline([\n",
    "        ('vec',vectorizer),\n",
    "        ('clf',LogisticRegression())\n",
    "    ])\n",
    "clf1.fit(docs_train,y_train)\n",
    "y_predicted = clf1.predict(docs_test)"
   ]
  },
  {
   "cell_type": "code",
   "execution_count": 382,
   "metadata": {
    "collapsed": false
   },
   "outputs": [
    {
     "name": "stdout",
     "output_type": "stream",
     "text": [
      "             precision    recall  f1-score   support\n",
      "\n",
      "         ar       1.00      1.00      1.00        15\n",
      "         de       0.92      0.99      0.95        77\n",
      "         en       0.97      1.00      0.99        68\n",
      "         es       1.00      0.98      0.99        58\n",
      "         fr       1.00      1.00      1.00        60\n",
      "         it       1.00      1.00      1.00        45\n",
      "         ja       0.94      1.00      0.97        33\n",
      "         nl       1.00      0.65      0.79        23\n",
      "         pl       0.95      0.90      0.93        21\n",
      "         pt       1.00      1.00      1.00        47\n",
      "         ru       1.00      1.00      1.00        35\n",
      "\n",
      "avg / total       0.98      0.98      0.97       482\n",
      "\n"
     ]
    }
   ],
   "source": [
    "print(metrics.classification_report(y_test,y_predicted,target_names=dataset.target_names))"
   ]
  },
  {
   "cell_type": "code",
   "execution_count": 383,
   "metadata": {
    "collapsed": false
   },
   "outputs": [
    {
     "name": "stdout",
     "output_type": "stream",
     "text": [
      "Ceci est un test de détection de la langue. fr\n",
      "This is a language detection test. fr\n",
      "Ceci est un test de détection de la langue. fr\n",
      "Dies ist ein Test, um die Sprache zu erkennen. de\n"
     ]
    }
   ],
   "source": [
    "predicted = clf.predict(sentences)\n",
    "for s,p in zip(sentences,predicted):\n",
    "    print s,dataset.target_names[p]"
   ]
  },
  {
   "cell_type": "code",
   "execution_count": null,
   "metadata": {
    "collapsed": true
   },
   "outputs": [],
   "source": []
  }
 ],
 "metadata": {
  "kernelspec": {
   "display_name": "Python 2",
   "language": "python",
   "name": "python2"
  },
  "language_info": {
   "codemirror_mode": {
    "name": "ipython",
    "version": 2
   },
   "file_extension": ".py",
   "mimetype": "text/x-python",
   "name": "python",
   "nbconvert_exporter": "python",
   "pygments_lexer": "ipython2",
   "version": "2.7.11"
  }
 },
 "nbformat": 4,
 "nbformat_minor": 0
}
